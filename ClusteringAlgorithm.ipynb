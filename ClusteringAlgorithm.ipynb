{
 "cells": [
  {
   "cell_type": "code",
   "execution_count": 1,
   "metadata": {
    "collapsed": true
   },
   "outputs": [],
   "source": [
    "import tensorflow as tf\n",
    "import numpy as np\n",
    "\n",
    "\n",
    "def create_samples(n_clusters, n_samples_per_cluster, n_features, embiggen_factor, seed):\n",
    "    np.random.seed(seed)\n",
    "    slices = []\n",
    "    centroids = []\n",
    "    # Create samples for each cluster\n",
    "    for i in range(n_clusters):\n",
    "        samples = tf.random_normal((n_samples_per_cluster, n_features),\n",
    "                               mean=0.0, stddev=5.0, dtype=tf.float32, seed=seed, name=\"cluster_{}\".format(i))\n",
    "        current_centroid = (np.random.random((1, n_features)) * embiggen_factor) - (embiggen_factor/2)\n",
    "        centroids.append(current_centroid)\n",
    "        samples += current_centroid\n",
    "        slices.append(samples)\n",
    "    # Create a big \"samples\" dataset\n",
    "    samples = tf.concat(0, slices, name='samples')\n",
    "    centroids = tf.concat(0, centroids, name='centroids')\n",
    "    return centroids, samples"
   ]
  },
  {
   "cell_type": "code",
   "execution_count": 2,
   "metadata": {
    "collapsed": true
   },
   "outputs": [],
   "source": [
    "def plot_clusters(all_samples, centroids, n_samples_per_cluster):\n",
    "    import matplotlib.pyplot as plt\n",
    "    # Plot out the different clusters\n",
    "    # Choose a different colour for each cluster\n",
    "    colour = plt.cm.rainbow(np.linspace(0,1,len(centroids)))\n",
    "    for i, centroid in enumerate(centroids):\n",
    "        # Grab just the samples fpr the given cluster and plot them out with a new colour\n",
    "        samples = all_samples[i*n_samples_per_cluster:(i+1)*n_samples_per_cluster]\n",
    "        plt.scatter(samples[:,0], samples[:,1], c=colour[i])\n",
    "        # Also plot centroid\n",
    "        plt.plot(centroid[0], centroid[1], markersize=35, marker=\"x\", color='k', mew=10)\n",
    "        plt.plot(centroid[0], centroid[1], markersize=30, marker=\"x\", color='m', mew=5)\n",
    "    plt.show()"
   ]
  },
  {
   "cell_type": "code",
   "execution_count": 3,
   "metadata": {
    "collapsed": true
   },
   "outputs": [],
   "source": [
    "def assign_to_nearest(samples, centroids):\n",
    "    # Finds the nearest centroid for each sample\n",
    "\n",
    "    # START from http://esciencegroup.com/2016/01/05/an-encounter-with-googles-tensorflow/\n",
    "    expanded_vectors = tf.expand_dims(samples, 0)\n",
    "    expanded_centroids = tf.expand_dims(centroids, 1)\n",
    "    distances = tf.reduce_sum( tf.square(\n",
    "               tf.sub(expanded_vectors, expanded_centroids)), 2)\n",
    "    mins = tf.argmin(distances, 0)\n",
    "    # END from http://esciencegroup.com/2016/01/05/an-encounter-with-googles-tensorflow/\n",
    "    nearest_indices = mins\n",
    "    return nearest_indices"
   ]
  },
  {
   "cell_type": "code",
   "execution_count": 4,
   "metadata": {
    "collapsed": true
   },
   "outputs": [],
   "source": [
    "def update_centroids(samples, nearest_indices, n_clusters):\n",
    "    # Updates the centroid to be the mean of all samples associated with it.\n",
    "    nearest_indices = tf.to_int32(nearest_indices)\n",
    "    partitions = tf.dynamic_partition(samples, nearest_indices, n_clusters)\n",
    "    new_centroids = tf.concat(0, [tf.expand_dims(tf.reduce_mean(partition, 0), 0) for partition in partitions])\n",
    "    return new_centroids"
   ]
  },
  {
   "cell_type": "code",
   "execution_count": 5,
   "metadata": {
    "collapsed": true
   },
   "outputs": [],
   "source": [
    "def choose_random_centroids(samples, n_clusters):\n",
    "    # Step 0: Initialisation: Select `n_clusters` number of random points\n",
    "    n_samples = tf.shape(samples)[0]\n",
    "    random_indices = tf.random_shuffle(tf.range(0, n_samples))\n",
    "    begin = [0,]\n",
    "    size = [n_clusters,]\n",
    "    size[0] = n_clusters\n",
    "    centroid_indices = tf.slice(random_indices, begin, size)\n",
    "    initial_centroids = tf.gather(samples, centroid_indices)\n",
    "    return initial_centroids\n",
    "    "
   ]
  },
  {
   "cell_type": "code",
   "execution_count": 7,
   "metadata": {
    "collapsed": true
   },
   "outputs": [],
   "source": [
    "import tensorflow as tf\n",
    "import numpy as np\n",
    "\n",
    "#from functions import create_samples, choose_random_centroids, plot_clusters\n",
    "\n",
    "n_features = 2\n",
    "n_clusters = 3\n",
    "n_samples_per_cluster = 500\n",
    "seed = 700\n",
    "embiggen_factor = 70\n",
    "\n",
    "centroids, samples = create_samples(n_clusters, n_samples_per_cluster, n_features, embiggen_factor, seed)\n",
    "initial_centroids = choose_random_centroids(samples, n_clusters)\n",
    "\n",
    "model = tf.initialize_all_variables()\n",
    "with tf.Session() as session:\n",
    "    sample_values = session.run(samples)\n",
    "    updated_centroid_value = session.run(initial_centroids)\n",
    "\n",
    "plot_clusters(sample_values, updated_centroid_value, n_samples_per_cluster)"
   ]
  },
  {
   "cell_type": "code",
   "execution_count": 15,
   "metadata": {
    "collapsed": false
   },
   "outputs": [
    {
     "name": "stdout",
     "output_type": "stream",
     "text": [
      "[[-14.59747696  16.68169212]\n",
      " [-30.25665092  24.98431969]\n",
      " [-24.27393723  -6.00953102]]\n"
     ]
    }
   ],
   "source": [
    "import tensorflow as tf\n",
    "import numpy as np\n",
    "\n",
    "#from functions import *\n",
    "\n",
    "n_features = 2\n",
    "n_clusters = 3\n",
    "n_samples_per_cluster = 500\n",
    "seed = 700\n",
    "embiggen_factor = 70\n",
    "\n",
    "\n",
    "data_centroids, samples = create_samples(n_clusters, n_samples_per_cluster, n_features, embiggen_factor, seed)\n",
    "initial_centroids = choose_random_centroids(samples, n_clusters)\n",
    "nearest_indices = assign_to_nearest(samples, initial_centroids)\n",
    "\n",
    "updated_centroids = update_centroids(samples, nearest_indices, n_clusters)\n",
    "\n",
    "\n",
    "model = tf.initialize_all_variables()\n",
    "with tf.Session() as session:\n",
    "    sample_values = session.run(samples)\n",
    "    updated_centroid_value = session.run(updated_centroids)\n",
    "\n",
    "    for i in range(100):\n",
    "        nearest_indices_value=session.run(assign_to_nearest(samples,updated_centroid_value))\n",
    "        updated_centroid_value = session.run(update_centroids(samples,nearest_indices_value,n_clusters))\n",
    "        \n",
    "    print(updated_centroid_value)\n",
    "\n",
    "plot_clusters(sample_values, updated_centroid_value, n_samples_per_cluster)"
   ]
  }
 ],
 "metadata": {
  "anaconda-cloud": {},
  "kernelspec": {
   "display_name": "Python [Root]",
   "language": "python",
   "name": "Python [Root]"
  },
  "language_info": {
   "codemirror_mode": {
    "name": "ipython",
    "version": 3
   },
   "file_extension": ".py",
   "mimetype": "text/x-python",
   "name": "python",
   "nbconvert_exporter": "python",
   "pygments_lexer": "ipython3",
   "version": "3.5.2"
  }
 },
 "nbformat": 4,
 "nbformat_minor": 0
}
